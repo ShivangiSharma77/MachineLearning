{
 "cells": [
  {
   "cell_type": "code",
   "execution_count": 1,
   "metadata": {},
   "outputs": [],
   "source": [
    "import numpy as np\n",
    "import matplotlib.pyplot as plt\n",
    "import pandas as pd"
   ]
  },
  {
   "cell_type": "code",
   "execution_count": 3,
   "metadata": {},
   "outputs": [
    {
     "data": {
      "text/html": [
       "<div>\n",
       "<style scoped>\n",
       "    .dataframe tbody tr th:only-of-type {\n",
       "        vertical-align: middle;\n",
       "    }\n",
       "\n",
       "    .dataframe tbody tr th {\n",
       "        vertical-align: top;\n",
       "    }\n",
       "\n",
       "    .dataframe thead th {\n",
       "        text-align: right;\n",
       "    }\n",
       "</style>\n",
       "<table border=\"1\" class=\"dataframe\">\n",
       "  <thead>\n",
       "    <tr style=\"text-align: right;\">\n",
       "      <th></th>\n",
       "      <th>RowNumber</th>\n",
       "      <th>CustomerId</th>\n",
       "      <th>Surname</th>\n",
       "      <th>CreditScore</th>\n",
       "      <th>Geography</th>\n",
       "      <th>Gender</th>\n",
       "      <th>Age</th>\n",
       "      <th>Tenure</th>\n",
       "      <th>Balance</th>\n",
       "      <th>NumOfProducts</th>\n",
       "      <th>HasCrCard</th>\n",
       "      <th>IsActiveMember</th>\n",
       "      <th>EstimatedSalary</th>\n",
       "      <th>Exited</th>\n",
       "    </tr>\n",
       "  </thead>\n",
       "  <tbody>\n",
       "    <tr>\n",
       "      <th>0</th>\n",
       "      <td>1</td>\n",
       "      <td>15634602</td>\n",
       "      <td>Hargrave</td>\n",
       "      <td>619</td>\n",
       "      <td>France</td>\n",
       "      <td>Female</td>\n",
       "      <td>42</td>\n",
       "      <td>2</td>\n",
       "      <td>0.00</td>\n",
       "      <td>1</td>\n",
       "      <td>1</td>\n",
       "      <td>1</td>\n",
       "      <td>101348.88</td>\n",
       "      <td>1</td>\n",
       "    </tr>\n",
       "    <tr>\n",
       "      <th>1</th>\n",
       "      <td>2</td>\n",
       "      <td>15647311</td>\n",
       "      <td>Hill</td>\n",
       "      <td>608</td>\n",
       "      <td>Spain</td>\n",
       "      <td>Female</td>\n",
       "      <td>41</td>\n",
       "      <td>1</td>\n",
       "      <td>83807.86</td>\n",
       "      <td>1</td>\n",
       "      <td>0</td>\n",
       "      <td>1</td>\n",
       "      <td>112542.58</td>\n",
       "      <td>0</td>\n",
       "    </tr>\n",
       "    <tr>\n",
       "      <th>2</th>\n",
       "      <td>3</td>\n",
       "      <td>15619304</td>\n",
       "      <td>Onio</td>\n",
       "      <td>502</td>\n",
       "      <td>France</td>\n",
       "      <td>Female</td>\n",
       "      <td>42</td>\n",
       "      <td>8</td>\n",
       "      <td>159660.80</td>\n",
       "      <td>3</td>\n",
       "      <td>1</td>\n",
       "      <td>0</td>\n",
       "      <td>113931.57</td>\n",
       "      <td>1</td>\n",
       "    </tr>\n",
       "    <tr>\n",
       "      <th>3</th>\n",
       "      <td>4</td>\n",
       "      <td>15701354</td>\n",
       "      <td>Boni</td>\n",
       "      <td>699</td>\n",
       "      <td>France</td>\n",
       "      <td>Female</td>\n",
       "      <td>39</td>\n",
       "      <td>1</td>\n",
       "      <td>0.00</td>\n",
       "      <td>2</td>\n",
       "      <td>0</td>\n",
       "      <td>0</td>\n",
       "      <td>93826.63</td>\n",
       "      <td>0</td>\n",
       "    </tr>\n",
       "    <tr>\n",
       "      <th>4</th>\n",
       "      <td>5</td>\n",
       "      <td>15737888</td>\n",
       "      <td>Mitchell</td>\n",
       "      <td>850</td>\n",
       "      <td>Spain</td>\n",
       "      <td>Female</td>\n",
       "      <td>43</td>\n",
       "      <td>2</td>\n",
       "      <td>125510.82</td>\n",
       "      <td>1</td>\n",
       "      <td>1</td>\n",
       "      <td>1</td>\n",
       "      <td>79084.10</td>\n",
       "      <td>0</td>\n",
       "    </tr>\n",
       "  </tbody>\n",
       "</table>\n",
       "</div>"
      ],
      "text/plain": [
       "   RowNumber  CustomerId   Surname  CreditScore Geography  Gender  Age  \\\n",
       "0          1    15634602  Hargrave          619    France  Female   42   \n",
       "1          2    15647311      Hill          608     Spain  Female   41   \n",
       "2          3    15619304      Onio          502    France  Female   42   \n",
       "3          4    15701354      Boni          699    France  Female   39   \n",
       "4          5    15737888  Mitchell          850     Spain  Female   43   \n",
       "\n",
       "   Tenure    Balance  NumOfProducts  HasCrCard  IsActiveMember  \\\n",
       "0       2       0.00              1          1               1   \n",
       "1       1   83807.86              1          0               1   \n",
       "2       8  159660.80              3          1               0   \n",
       "3       1       0.00              2          0               0   \n",
       "4       2  125510.82              1          1               1   \n",
       "\n",
       "   EstimatedSalary  Exited  \n",
       "0        101348.88       1  \n",
       "1        112542.58       0  \n",
       "2        113931.57       1  \n",
       "3         93826.63       0  \n",
       "4         79084.10       0  "
      ]
     },
     "execution_count": 3,
     "metadata": {},
     "output_type": "execute_result"
    }
   ],
   "source": [
    "# Importing the dataset\n",
    "dataset = pd.read_csv('Churn_Modelling.csv')\n",
    "dataset.head()"
   ]
  },
  {
   "cell_type": "code",
   "execution_count": 4,
   "metadata": {},
   "outputs": [],
   "source": [
    "X = dataset.iloc[:, 3:13]\n",
    "y = dataset.iloc[:, 13]"
   ]
  },
  {
   "cell_type": "code",
   "execution_count": 5,
   "metadata": {},
   "outputs": [
    {
     "name": "stdout",
     "output_type": "stream",
     "text": [
      "['France' 'Germany' 'Spain']\n"
     ]
    }
   ],
   "source": [
    "# Encoding categorical data\n",
    "from sklearn.preprocessing import LabelEncoder, OneHotEncoder\n",
    "geographyEncoder = LabelEncoder()\n",
    "X['Geography'] = geographyEncoder.fit_transform(X['Geography'])\n",
    "geography_classes = geographyEncoder.classes_\n",
    "print(geography_classes)"
   ]
  },
  {
   "cell_type": "code",
   "execution_count": 6,
   "metadata": {},
   "outputs": [
    {
     "name": "stdout",
     "output_type": "stream",
     "text": [
      "['Female' 'Male']\n"
     ]
    }
   ],
   "source": [
    "gender_encoder = LabelEncoder()\n",
    "X['Gender'] = gender_encoder.fit_transform(X['Gender'])\n",
    "gender_classes = gender_encoder.classes_\n",
    "print(gender_classes)\n"
   ]
  },
  {
   "cell_type": "code",
   "execution_count": 22,
   "metadata": {},
   "outputs": [],
   "source": [
    "import seaborn as sns"
   ]
  },
  {
   "cell_type": "code",
   "execution_count": 29,
   "metadata": {},
   "outputs": [
    {
     "data": {
      "text/plain": [
       "<matplotlib.axes._subplots.AxesSubplot at 0x2667c40f3c8>"
      ]
     },
     "execution_count": 29,
     "metadata": {},
     "output_type": "execute_result"
    },
    {
     "data": {
      "image/png": "[encoded data removed]",
      "text/plain": [
       "<Figure size 720x720 with 2 Axes>"
      ]
     },
     "metadata": {
      "needs_background": "light"
     },
     "output_type": "display_data"
    }
   ],
   "source": [
    "plt.figure(figsize=(10, 10))\n",
    "sns.heatmap(dataset.corr(), annot=True, linecolor='white')"
   ]
  },
  {
   "cell_type": "code",
   "execution_count": null,
   "metadata": {},
   "outputs": [],
   "source": []
  },
  {
   "cell_type": "code",
   "execution_count": null,
   "metadata": {},
   "outputs": [],
   "source": []
  },
  {
   "cell_type": "code",
   "execution_count": 7,
   "metadata": {},
   "outputs": [],
   "source": [
    "from sklearn.model_selection import train_test_split\n",
    "X_train, X_test, y_train, y_test = train_test_split(X, y, test_size = 0.2, random_state = 40)"
   ]
  },
  {
   "cell_type": "code",
   "execution_count": 8,
   "metadata": {},
   "outputs": [
    {
     "name": "stderr",
     "output_type": "stream",
     "text": [
      "Using TensorFlow backend.\n"
     ]
    }
   ],
   "source": [
    "from keras.models import Sequential\n",
    "from keras.layers import Dense\n",
    "from keras.utils import plot_model"
   ]
  },
  {
   "cell_type": "code",
   "execution_count": 9,
   "metadata": {},
   "outputs": [],
   "source": [
    "classifier = Sequential()"
   ]
  },
  {
   "cell_type": "code",
   "execution_count": 10,
   "metadata": {},
   "outputs": [
    {
     "name": "stdout",
     "output_type": "stream",
     "text": [
      "WARNING:tensorflow:From C:\\ProgramData\\Anaconda3\\lib\\site-packages\\tensorflow\\python\\framework\\op_def_library.py:263: colocate_with (from tensorflow.python.framework.ops) is deprecated and will be removed in a future version.\n",
      "Instructions for updating:\n",
      "Colocations handled automatically by placer.\n"
     ]
    }
   ],
   "source": [
    "# Adding the input layer and the first hidden layer\n",
    "classifier.add(Dense(units = 8, kernel_initializer = 'uniform', activation = 'relu', input_dim = 10))"
   ]
  },
  {
   "cell_type": "code",
   "execution_count": 11,
   "metadata": {},
   "outputs": [],
   "source": [
    "# Adding the second hidden layer\n",
    "classifier.add(Dense(units = 8, kernel_initializer = 'uniform', activation = 'relu'))"
   ]
  },
  {
   "cell_type": "code",
   "execution_count": 12,
   "metadata": {},
   "outputs": [],
   "source": [
    "# Adding the output layer\n",
    "classifier.add(Dense(units = 1, kernel_initializer = 'uniform', activation = 'sigmoid'))"
   ]
  },
  {
   "cell_type": "code",
   "execution_count": 13,
   "metadata": {},
   "outputs": [],
   "source": [
    "# Compiling the ANN\n",
    "classifier.compile(optimizer = 'adam', loss = 'binary_crossentropy', metrics = ['accuracy'])"
   ]
  },
  {
   "cell_type": "code",
   "execution_count": 16,
   "metadata": {},
   "outputs": [
    {
     "name": "stdout",
     "output_type": "stream",
     "text": [
      "WARNING:tensorflow:From C:\\ProgramData\\Anaconda3\\lib\\site-packages\\tensorflow\\python\\ops\\math_ops.py:3066: to_int32 (from tensorflow.python.ops.math_ops) is deprecated and will be removed in a future version.\n",
      "Instructions for updating:\n",
      "Use tf.cast instead.\n",
      "Epoch 1/100\n",
      "8000/8000 [==============================] - 1s 149us/step - loss: 0.5827 - acc: 0.7831\n",
      "Epoch 2/100\n",
      "8000/8000 [==============================] - 1s 109us/step - loss: 0.5351 - acc: 0.7934\n",
      "Epoch 3/100\n",
      "8000/8000 [==============================] - 1s 101us/step - loss: 0.5117 - acc: 0.7934\n",
      "Epoch 4/100\n",
      "8000/8000 [==============================] - 1s 96us/step - loss: 0.5058 - acc: 0.7934\n",
      "Epoch 5/100\n",
      "8000/8000 [==============================] - 1s 98us/step - loss: 0.5063 - acc: 0.7934\n",
      "Epoch 6/100\n",
      "8000/8000 [==============================] - 1s 97us/step - loss: 0.5063 - acc: 0.7926\n",
      "Epoch 7/100\n",
      "8000/8000 [==============================] - 1s 97us/step - loss: 0.5072 - acc: 0.7934\n",
      "Epoch 8/100\n",
      "8000/8000 [==============================] - 1s 98us/step - loss: 0.5095 - acc: 0.7934\n",
      "Epoch 9/100\n",
      "8000/8000 [==============================] - 1s 110us/step - loss: 0.5094 - acc: 0.7934\n",
      "Epoch 10/100\n",
      "8000/8000 [==============================] - 1s 96us/step - loss: 0.5092 - acc: 0.7934\n",
      "Epoch 11/100\n",
      "8000/8000 [==============================] - 1s 96us/step - loss: 0.5093 - acc: 0.7934\n",
      "Epoch 12/100\n",
      "8000/8000 [==============================] - 1s 102us/step - loss: 0.5095 - acc: 0.7934\n",
      "Epoch 13/100\n",
      "8000/8000 [==============================] - 1s 103us/step - loss: 0.5103 - acc: 0.7934\n",
      "Epoch 14/100\n",
      "8000/8000 [==============================] - 1s 100us/step - loss: 0.5094 - acc: 0.7934\n",
      "Epoch 15/100\n",
      "8000/8000 [==============================] - 1s 104us/step - loss: 0.5089 - acc: 0.7934\n",
      "Epoch 16/100\n",
      "8000/8000 [==============================] - 1s 102us/step - loss: 0.5077 - acc: 0.7934\n",
      "Epoch 17/100\n",
      "8000/8000 [==============================] - 1s 117us/step - loss: 0.5093 - acc: 0.7934\n",
      "Epoch 18/100\n",
      "8000/8000 [==============================] - 1s 101us/step - loss: 0.5094 - acc: 0.7934\n",
      "Epoch 19/100\n",
      "8000/8000 [==============================] - 1s 102us/step - loss: 0.5093 - acc: 0.7934\n",
      "Epoch 20/100\n",
      "8000/8000 [==============================] - 1s 119us/step - loss: 0.5092 - acc: 0.7934\n",
      "Epoch 21/100\n",
      "8000/8000 [==============================] - 1s 137us/step - loss: 0.5094 - acc: 0.7934\n",
      "Epoch 22/100\n",
      "8000/8000 [==============================] - 1s 128us/step - loss: 0.5088 - acc: 0.7934\n",
      "Epoch 23/100\n",
      "8000/8000 [==============================] - 1s 130us/step - loss: 0.5088 - acc: 0.7934\n",
      "Epoch 24/100\n",
      "8000/8000 [==============================] - 1s 126us/step - loss: 0.5087 - acc: 0.7934\n",
      "Epoch 25/100\n",
      "8000/8000 [==============================] - 1s 100us/step - loss: 0.5092 - acc: 0.7934\n",
      "Epoch 26/100\n",
      "8000/8000 [==============================] - 1s 110us/step - loss: 0.5091 - acc: 0.7934\n",
      "Epoch 27/100\n",
      "8000/8000 [==============================] - 1s 121us/step - loss: 0.5081 - acc: 0.7934\n",
      "Epoch 28/100\n",
      "8000/8000 [==============================] - 1s 124us/step - loss: 0.5033 - acc: 0.7934 3s - loss: 0.\n",
      "Epoch 29/100\n",
      "8000/8000 [==============================] - 1s 115us/step - loss: 0.5025 - acc: 0.7934\n",
      "Epoch 30/100\n",
      "8000/8000 [==============================] - 1s 109us/step - loss: 0.5026 - acc: 0.7934\n",
      "Epoch 31/100\n",
      "8000/8000 [==============================] - 1s 108us/step - loss: 0.5023 - acc: 0.7934\n",
      "Epoch 32/100\n",
      "8000/8000 [==============================] - 1s 105us/step - loss: 0.5019 - acc: 0.7934\n",
      "Epoch 33/100\n",
      "8000/8000 [==============================] - 1s 109us/step - loss: 0.5026 - acc: 0.7934\n",
      "Epoch 34/100\n",
      "8000/8000 [==============================] - 1s 102us/step - loss: 0.5021 - acc: 0.7934\n",
      "Epoch 35/100\n",
      "8000/8000 [==============================] - 1s 118us/step - loss: 0.5021 - acc: 0.7934\n",
      "Epoch 36/100\n",
      "8000/8000 [==============================] - 1s 103us/step - loss: 0.5019 - acc: 0.7934\n",
      "Epoch 37/100\n",
      "8000/8000 [==============================] - 1s 101us/step - loss: 0.5020 - acc: 0.7934\n",
      "Epoch 38/100\n",
      "8000/8000 [==============================] - 1s 104us/step - loss: 0.5018 - acc: 0.7934\n",
      "Epoch 39/100\n",
      "8000/8000 [==============================] - 1s 103us/step - loss: 0.5021 - acc: 0.7934\n",
      "Epoch 40/100\n",
      "8000/8000 [==============================] - 1s 106us/step - loss: 0.5019 - acc: 0.7934\n",
      "Epoch 41/100\n",
      "8000/8000 [==============================] - 1s 105us/step - loss: 0.5018 - acc: 0.7934\n",
      "Epoch 42/100\n",
      "8000/8000 [==============================] - 1s 110us/step - loss: 0.5019 - acc: 0.7934\n",
      "Epoch 43/100\n",
      "8000/8000 [==============================] - 1s 104us/step - loss: 0.5018 - acc: 0.7934\n",
      "Epoch 44/100\n",
      "8000/8000 [==============================] - 1s 110us/step - loss: 0.5017 - acc: 0.7934\n",
      "Epoch 45/100\n",
      "8000/8000 [==============================] - 1s 114us/step - loss: 0.5017 - acc: 0.7934\n",
      "Epoch 46/100\n",
      "8000/8000 [==============================] - 1s 110us/step - loss: 0.5018 - acc: 0.7934\n",
      "Epoch 47/100\n",
      "8000/8000 [==============================] - 1s 115us/step - loss: 0.5017 - acc: 0.7934\n",
      "Epoch 48/100\n",
      "8000/8000 [==============================] - 1s 107us/step - loss: 0.5017 - acc: 0.7934\n",
      "Epoch 49/100\n",
      "8000/8000 [==============================] - 1s 110us/step - loss: 0.5018 - acc: 0.7934\n",
      "Epoch 50/100\n",
      "8000/8000 [==============================] - 1s 103us/step - loss: 0.5018 - acc: 0.7934\n",
      "Epoch 51/100\n",
      "8000/8000 [==============================] - 1s 103us/step - loss: 0.5017 - acc: 0.7934\n",
      "Epoch 52/100\n",
      "8000/8000 [==============================] - 1s 104us/step - loss: 0.5017 - acc: 0.7934\n",
      "Epoch 53/100\n",
      "8000/8000 [==============================] - 1s 98us/step - loss: 0.5017 - acc: 0.7934\n",
      "Epoch 54/100\n",
      "8000/8000 [==============================] - 1s 101us/step - loss: 0.5017 - acc: 0.7934\n",
      "Epoch 55/100\n",
      "8000/8000 [==============================] - 1s 101us/step - loss: 0.5016 - acc: 0.7934\n",
      "Epoch 56/100\n",
      "8000/8000 [==============================] - 1s 117us/step - loss: 0.5017 - acc: 0.7934\n",
      "Epoch 57/100\n",
      "8000/8000 [==============================] - 1s 103us/step - loss: 0.5017 - acc: 0.7934\n",
      "Epoch 58/100\n",
      "8000/8000 [==============================] - 1s 108us/step - loss: 0.5018 - acc: 0.7934\n",
      "Epoch 59/100\n",
      "8000/8000 [==============================] - 1s 107us/step - loss: 0.5017 - acc: 0.7934\n",
      "Epoch 60/100\n",
      "8000/8000 [==============================] - 1s 109us/step - loss: 0.5017 - acc: 0.7934\n",
      "Epoch 61/100\n",
      "8000/8000 [==============================] - 1s 124us/step - loss: 0.5018 - acc: 0.7934\n",
      "Epoch 62/100\n",
      "8000/8000 [==============================] - 1s 101us/step - loss: 0.5017 - acc: 0.7934\n",
      "Epoch 63/100\n",
      "8000/8000 [==============================] - 1s 99us/step - loss: 0.5017 - acc: 0.7934\n",
      "Epoch 64/100\n",
      "8000/8000 [==============================] - 1s 104us/step - loss: 0.5018 - acc: 0.7934\n",
      "Epoch 65/100\n",
      "8000/8000 [==============================] - 1s 98us/step - loss: 0.5017 - acc: 0.7934\n",
      "Epoch 66/100\n",
      "8000/8000 [==============================] - 1s 98us/step - loss: 0.5017 - acc: 0.7934\n",
      "Epoch 67/100\n",
      "8000/8000 [==============================] - 1s 100us/step - loss: 0.5017 - acc: 0.7934\n",
      "Epoch 68/100\n",
      "8000/8000 [==============================] - 1s 105us/step - loss: 0.5016 - acc: 0.7934\n",
      "Epoch 69/100\n",
      "8000/8000 [==============================] - 1s 100us/step - loss: 0.5017 - acc: 0.7934\n",
      "Epoch 70/100\n",
      "8000/8000 [==============================] - 1s 101us/step - loss: 0.5017 - acc: 0.7934\n",
      "Epoch 71/100\n",
      "8000/8000 [==============================] - 1s 102us/step - loss: 0.5017 - acc: 0.7934\n",
      "Epoch 72/100\n",
      "8000/8000 [==============================] - 1s 105us/step - loss: 0.5017 - acc: 0.7934\n",
      "Epoch 73/100\n",
      "8000/8000 [==============================] - 1s 103us/step - loss: 0.5017 - acc: 0.7934\n",
      "Epoch 74/100\n",
      "8000/8000 [==============================] - 1s 101us/step - loss: 0.5023 - acc: 0.7934\n",
      "Epoch 75/100\n",
      "8000/8000 [==============================] - 1s 105us/step - loss: 0.5019 - acc: 0.7934\n",
      "Epoch 76/100\n",
      "8000/8000 [==============================] - 1s 100us/step - loss: 0.5017 - acc: 0.7934\n",
      "Epoch 77/100\n",
      "8000/8000 [==============================] - 1s 104us/step - loss: 0.5017 - acc: 0.7934\n",
      "Epoch 78/100\n",
      "8000/8000 [==============================] - 1s 104us/step - loss: 0.5017 - acc: 0.7934\n",
      "Epoch 79/100\n"
     ]
    },
    {
     "name": "stdout",
     "output_type": "stream",
     "text": [
      "8000/8000 [==============================] - 1s 99us/step - loss: 0.5017 - acc: 0.7934\n",
      "Epoch 80/100\n",
      "8000/8000 [==============================] - 1s 93us/step - loss: 0.5016 - acc: 0.7934\n",
      "Epoch 81/100\n",
      "8000/8000 [==============================] - 1s 94us/step - loss: 0.5017 - acc: 0.7934\n",
      "Epoch 82/100\n",
      "8000/8000 [==============================] - 1s 93us/step - loss: 0.5017 - acc: 0.7934\n",
      "Epoch 83/100\n",
      "8000/8000 [==============================] - 1s 91us/step - loss: 0.5017 - acc: 0.7934\n",
      "Epoch 84/100\n",
      "8000/8000 [==============================] - 1s 95us/step - loss: 0.5016 - acc: 0.7934\n",
      "Epoch 85/100\n",
      "8000/8000 [==============================] - 1s 93us/step - loss: 0.5018 - acc: 0.7934\n",
      "Epoch 86/100\n",
      "8000/8000 [==============================] - 1s 93us/step - loss: 0.5016 - acc: 0.7934\n",
      "Epoch 87/100\n",
      "8000/8000 [==============================] - 1s 94us/step - loss: 0.5018 - acc: 0.7934\n",
      "Epoch 88/100\n",
      "8000/8000 [==============================] - 1s 93us/step - loss: 0.5017 - acc: 0.7934\n",
      "Epoch 89/100\n",
      "8000/8000 [==============================] - 1s 113us/step - loss: 0.5017 - acc: 0.7934\n",
      "Epoch 90/100\n",
      "8000/8000 [==============================] - 1s 104us/step - loss: 0.5018 - acc: 0.7934\n",
      "Epoch 91/100\n",
      "8000/8000 [==============================] - 1s 117us/step - loss: 0.5017 - acc: 0.7934\n",
      "Epoch 92/100\n",
      "8000/8000 [==============================] - 1s 111us/step - loss: 0.5017 - acc: 0.7934\n",
      "Epoch 93/100\n",
      "8000/8000 [==============================] - 1s 144us/step - loss: 0.5016 - acc: 0.7934\n",
      "Epoch 94/100\n",
      "8000/8000 [==============================] - 1s 123us/step - loss: 0.5017 - acc: 0.7934\n",
      "Epoch 95/100\n",
      "8000/8000 [==============================] - 1s 101us/step - loss: 0.5017 - acc: 0.7934\n",
      "Epoch 96/100\n",
      "8000/8000 [==============================] - 1s 94us/step - loss: 0.5017 - acc: 0.7934\n",
      "Epoch 97/100\n",
      "8000/8000 [==============================] - 1s 93us/step - loss: 0.5017 - acc: 0.7934\n",
      "Epoch 98/100\n",
      "8000/8000 [==============================] - 1s 97us/step - loss: 0.5017 - acc: 0.7934\n",
      "Epoch 99/100\n",
      "8000/8000 [==============================] - 1s 107us/step - loss: 0.5017 - acc: 0.7934\n",
      "Epoch 100/100\n",
      "8000/8000 [==============================] - 1s 103us/step - loss: 0.5017 - acc: 0.7934\n"
     ]
    },
    {
     "data": {
      "text/plain": [
       "<keras.callbacks.History at 0x26676e93c18>"
      ]
     },
     "execution_count": 16,
     "metadata": {},
     "output_type": "execute_result"
    }
   ],
   "source": [
    "# Fitting the ANN to the Training set\n",
    "classifier.fit(X_train, y_train, batch_size = 10, epochs = 100)\n"
   ]
  },
  {
   "cell_type": "code",
   "execution_count": 17,
   "metadata": {},
   "outputs": [],
   "source": [
    "# Predicting the Test set results\n",
    "y_pred = classifier.predict(X_test)\n",
    "y_pred = (y_pred > 0.5)"
   ]
  },
  {
   "cell_type": "code",
   "execution_count": 18,
   "metadata": {},
   "outputs": [],
   "source": [
    "# Making the Confusion Matrix\n",
    "from sklearn.metrics import confusion_matrix\n",
    "cm = confusion_matrix(y_test, y_pred)"
   ]
  },
  {
   "cell_type": "code",
   "execution_count": 21,
   "metadata": {},
   "outputs": [
    {
     "data": {
      "text/plain": [
       "array([[1616,    0],\n",
       "       [ 384,    0]], dtype=int64)"
      ]
     },
     "execution_count": 21,
     "metadata": {},
     "output_type": "execute_result"
    }
   ],
   "source": [
    "cm"
   ]
  },
  {
   "cell_type": "code",
   "execution_count": 19,
   "metadata": {},
   "outputs": [
    {
     "name": "stdout",
     "output_type": "stream",
     "text": [
      "Accuracy Score is: 0.808\n"
     ]
    }
   ],
   "source": [
    "# Checking accuracy\n",
    "from sklearn.metrics import accuracy_score\n",
    "clf_score = accuracy_score(y_test, y_pred)\n",
    "print(\"Accuracy Score is:\", clf_score)"
   ]
  }
 ],
 "metadata": {
  "kernelspec": {
   "display_name": "Python 3",
   "language": "python",
   "name": "python3"
  },
  "language_info": {
   "codemirror_mode": {
    "name": "ipython",
    "version": 3
   },
   "file_extension": ".py",
   "mimetype": "text/x-python",
   "name": "python",
   "nbconvert_exporter": "python",
   "pygments_lexer": "ipython3",
   "version": "3.7.1"
  }
 },
 "nbformat": 4,
 "nbformat_minor": 2
}
