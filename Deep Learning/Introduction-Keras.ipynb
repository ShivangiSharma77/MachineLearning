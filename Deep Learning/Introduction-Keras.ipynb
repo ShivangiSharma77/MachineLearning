{
 "cells": [
  {
   "cell_type": "code",
   "execution_count": 1,
   "metadata": {},
   "outputs": [],
   "source": [
    "import numpy as np"
   ]
  },
  {
   "cell_type": "code",
   "execution_count": 2,
   "metadata": {},
   "outputs": [
    {
     "name": "stderr",
     "output_type": "stream",
     "text": [
      "Using TensorFlow backend.\n"
     ]
    }
   ],
   "source": [
    "from keras.models import Sequential\n",
    "from keras.layers import Dense"
   ]
  },
  {
   "cell_type": "code",
   "execution_count": 3,
   "metadata": {},
   "outputs": [],
   "source": [
    "X = np.array([[1, 0, 1], [1, 0, 0], [0, 1, 1], [0, 0, 0], [0, 0, 1], [1, 1, 0]])\n",
    "Y = [1, 1, 0, 0, 0, 1]"
   ]
  },
  {
   "cell_type": "code",
   "execution_count": 4,
   "metadata": {},
   "outputs": [],
   "source": [
    "classifier = Sequential()"
   ]
  },
  {
   "cell_type": "code",
   "execution_count": 5,
   "metadata": {},
   "outputs": [
    {
     "name": "stdout",
     "output_type": "stream",
     "text": [
      "WARNING:tensorflow:From C:\\ProgramData\\Anaconda3\\lib\\site-packages\\tensorflow\\python\\framework\\op_def_library.py:263: colocate_with (from tensorflow.python.framework.ops) is deprecated and will be removed in a future version.\n",
      "Instructions for updating:\n",
      "Colocations handled automatically by placer.\n"
     ]
    }
   ],
   "source": [
    "classifier.add(Dense(units=1, input_dim=3, activation='tanh'))\n",
    "classifier.compile(optimizer='adam', loss='mean_squared_error', \n",
    "                   metrics=['accuracy'])"
   ]
  },
  {
   "cell_type": "code",
   "execution_count": 6,
   "metadata": {},
   "outputs": [
    {
     "name": "stdout",
     "output_type": "stream",
     "text": [
      "WARNING:tensorflow:From C:\\ProgramData\\Anaconda3\\lib\\site-packages\\tensorflow\\python\\ops\\math_ops.py:3066: to_int32 (from tensorflow.python.ops.math_ops) is deprecated and will be removed in a future version.\n",
      "Instructions for updating:\n",
      "Use tf.cast instead.\n",
      "Epoch 1/100\n",
      "6/6 [==============================] - 0s 21ms/step - loss: 0.1209 - acc: 0.8333\n",
      "Epoch 2/100\n",
      "6/6 [==============================] - 0s 0us/step - loss: 0.1204 - acc: 0.8333\n",
      "Epoch 3/100\n",
      "6/6 [==============================] - 0s 666us/step - loss: 0.1199 - acc: 0.8333\n",
      "Epoch 4/100\n",
      "6/6 [==============================] - 0s 667us/step - loss: 0.1195 - acc: 0.8333\n",
      "Epoch 5/100\n",
      "6/6 [==============================] - 0s 666us/step - loss: 0.1190 - acc: 0.8333\n",
      "Epoch 6/100\n",
      "6/6 [==============================] - 0s 0us/step - loss: 0.1186 - acc: 0.8333\n",
      "Epoch 7/100\n",
      "6/6 [==============================] - 0s 0us/step - loss: 0.1181 - acc: 0.8333\n",
      "Epoch 8/100\n",
      "6/6 [==============================] - 0s 0us/step - loss: 0.1177 - acc: 0.8333\n",
      "Epoch 9/100\n",
      "6/6 [==============================] - 0s 666us/step - loss: 0.1172 - acc: 0.8333\n",
      "Epoch 10/100\n",
      "6/6 [==============================] - 0s 666us/step - loss: 0.1167 - acc: 0.8333\n",
      "Epoch 11/100\n",
      "6/6 [==============================] - 0s 666us/step - loss: 0.1163 - acc: 0.8333\n",
      "Epoch 12/100\n",
      "6/6 [==============================] - 0s 0us/step - loss: 0.1158 - acc: 0.8333\n",
      "Epoch 13/100\n",
      "6/6 [==============================] - 0s 0us/step - loss: 0.1153 - acc: 0.8333\n",
      "Epoch 14/100\n",
      "6/6 [==============================] - 0s 0us/step - loss: 0.1149 - acc: 0.8333\n",
      "Epoch 15/100\n",
      "6/6 [==============================] - 0s 0us/step - loss: 0.1144 - acc: 0.8333\n",
      "Epoch 16/100\n",
      "6/6 [==============================] - 0s 666us/step - loss: 0.1139 - acc: 0.8333\n",
      "Epoch 17/100\n",
      "6/6 [==============================] - 0s 667us/step - loss: 0.1135 - acc: 0.8333\n",
      "Epoch 18/100\n",
      "6/6 [==============================] - 0s 0us/step - loss: 0.1130 - acc: 0.8333\n",
      "Epoch 19/100\n",
      "6/6 [==============================] - 0s 0us/step - loss: 0.1125 - acc: 0.8333\n",
      "Epoch 20/100\n",
      "6/6 [==============================] - 0s 666us/step - loss: 0.1121 - acc: 0.8333\n",
      "Epoch 21/100\n",
      "6/6 [==============================] - 0s 0us/step - loss: 0.1116 - acc: 0.8333\n",
      "Epoch 22/100\n",
      "6/6 [==============================] - 0s 0us/step - loss: 0.1111 - acc: 0.8333\n",
      "Epoch 23/100\n",
      "6/6 [==============================] - 0s 666us/step - loss: 0.1107 - acc: 0.8333\n",
      "Epoch 24/100\n",
      "6/6 [==============================] - 0s 0us/step - loss: 0.1102 - acc: 0.8333\n",
      "Epoch 25/100\n",
      "6/6 [==============================] - 0s 0us/step - loss: 0.1097 - acc: 0.8333\n",
      "Epoch 26/100\n",
      "6/6 [==============================] - 0s 666us/step - loss: 0.1093 - acc: 0.8333\n",
      "Epoch 27/100\n",
      "6/6 [==============================] - 0s 0us/step - loss: 0.1088 - acc: 0.8333\n",
      "Epoch 28/100\n",
      "6/6 [==============================] - 0s 667us/step - loss: 0.1083 - acc: 0.8333\n",
      "Epoch 29/100\n",
      "6/6 [==============================] - 0s 666us/step - loss: 0.1079 - acc: 0.8333\n",
      "Epoch 30/100\n",
      "6/6 [==============================] - 0s 666us/step - loss: 0.1074 - acc: 0.8333\n",
      "Epoch 31/100\n",
      "6/6 [==============================] - 0s 0us/step - loss: 0.1069 - acc: 0.8333\n",
      "Epoch 32/100\n",
      "6/6 [==============================] - 0s 0us/step - loss: 0.1065 - acc: 0.8333\n",
      "Epoch 33/100\n",
      "6/6 [==============================] - 0s 666us/step - loss: 0.1060 - acc: 0.8333\n",
      "Epoch 34/100\n",
      "6/6 [==============================] - 0s 667us/step - loss: 0.1056 - acc: 0.8333\n",
      "Epoch 35/100\n",
      "6/6 [==============================] - 0s 666us/step - loss: 0.1051 - acc: 0.8333\n",
      "Epoch 36/100\n",
      "6/6 [==============================] - 0s 667us/step - loss: 0.1046 - acc: 0.8333\n",
      "Epoch 37/100\n",
      "6/6 [==============================] - 0s 0us/step - loss: 0.1042 - acc: 0.8333\n",
      "Epoch 38/100\n",
      "6/6 [==============================] - 0s 667us/step - loss: 0.1037 - acc: 0.8333\n",
      "Epoch 39/100\n",
      "6/6 [==============================] - 0s 0us/step - loss: 0.1033 - acc: 0.8333\n",
      "Epoch 40/100\n",
      "6/6 [==============================] - 0s 0us/step - loss: 0.1028 - acc: 0.8333\n",
      "Epoch 41/100\n",
      "6/6 [==============================] - 0s 666us/step - loss: 0.1024 - acc: 0.8333\n",
      "Epoch 42/100\n",
      "6/6 [==============================] - 0s 0us/step - loss: 0.1019 - acc: 0.8333\n",
      "Epoch 43/100\n",
      "6/6 [==============================] - 0s 0us/step - loss: 0.1015 - acc: 0.8333\n",
      "Epoch 44/100\n",
      "6/6 [==============================] - 0s 666us/step - loss: 0.1010 - acc: 0.8333\n",
      "Epoch 45/100\n",
      "6/6 [==============================] - 0s 0us/step - loss: 0.1006 - acc: 0.8333\n",
      "Epoch 46/100\n",
      "6/6 [==============================] - 0s 0us/step - loss: 0.1001 - acc: 0.8333\n",
      "Epoch 47/100\n",
      "6/6 [==============================] - 0s 666us/step - loss: 0.0997 - acc: 0.8333\n",
      "Epoch 48/100\n",
      "6/6 [==============================] - 0s 667us/step - loss: 0.0992 - acc: 0.8333\n",
      "Epoch 49/100\n",
      "6/6 [==============================] - 0s 667us/step - loss: 0.0988 - acc: 0.8333\n",
      "Epoch 50/100\n",
      "6/6 [==============================] - 0s 0us/step - loss: 0.0983 - acc: 0.8333\n",
      "Epoch 51/100\n",
      "6/6 [==============================] - 0s 0us/step - loss: 0.0979 - acc: 0.8333\n",
      "Epoch 52/100\n",
      "6/6 [==============================] - 0s 667us/step - loss: 0.0974 - acc: 0.8333\n",
      "Epoch 53/100\n",
      "6/6 [==============================] - 0s 0us/step - loss: 0.0970 - acc: 0.8333\n",
      "Epoch 54/100\n",
      "6/6 [==============================] - 0s 0us/step - loss: 0.0966 - acc: 0.8333\n",
      "Epoch 55/100\n",
      "6/6 [==============================] - 0s 667us/step - loss: 0.0961 - acc: 0.8333\n",
      "Epoch 56/100\n",
      "6/6 [==============================] - 0s 0us/step - loss: 0.0957 - acc: 0.8333\n",
      "Epoch 57/100\n",
      "6/6 [==============================] - 0s 667us/step - loss: 0.0952 - acc: 0.8333\n",
      "Epoch 58/100\n",
      "6/6 [==============================] - 0s 666us/step - loss: 0.0948 - acc: 0.8333\n",
      "Epoch 59/100\n",
      "6/6 [==============================] - 0s 0us/step - loss: 0.0944 - acc: 0.8333\n",
      "Epoch 60/100\n",
      "6/6 [==============================] - 0s 0us/step - loss: 0.0939 - acc: 0.8333\n",
      "Epoch 61/100\n",
      "6/6 [==============================] - 0s 667us/step - loss: 0.0935 - acc: 0.8333\n",
      "Epoch 62/100\n",
      "6/6 [==============================] - 0s 0us/step - loss: 0.0931 - acc: 0.8333\n",
      "Epoch 63/100\n",
      "6/6 [==============================] - 0s 0us/step - loss: 0.0926 - acc: 0.8333\n",
      "Epoch 64/100\n",
      "6/6 [==============================] - 0s 666us/step - loss: 0.0922 - acc: 0.8333\n",
      "Epoch 65/100\n",
      "6/6 [==============================] - 0s 0us/step - loss: 0.0918 - acc: 0.8333\n",
      "Epoch 66/100\n",
      "6/6 [==============================] - 0s 0us/step - loss: 0.0914 - acc: 0.8333\n",
      "Epoch 67/100\n",
      "6/6 [==============================] - 0s 666us/step - loss: 0.0909 - acc: 0.8333\n",
      "Epoch 68/100\n",
      "6/6 [==============================] - 0s 667us/step - loss: 0.0905 - acc: 0.8333\n",
      "Epoch 69/100\n",
      "6/6 [==============================] - 0s 0us/step - loss: 0.0901 - acc: 0.8333\n",
      "Epoch 70/100\n",
      "6/6 [==============================] - 0s 0us/step - loss: 0.0897 - acc: 0.8333\n",
      "Epoch 71/100\n",
      "6/6 [==============================] - 0s 667us/step - loss: 0.0892 - acc: 0.8333\n",
      "Epoch 72/100\n",
      "6/6 [==============================] - 0s 0us/step - loss: 0.0888 - acc: 0.8333\n",
      "Epoch 73/100\n",
      "6/6 [==============================] - 0s 666us/step - loss: 0.0884 - acc: 0.8333\n",
      "Epoch 74/100\n",
      "6/6 [==============================] - 0s 666us/step - loss: 0.0880 - acc: 0.8333\n",
      "Epoch 75/100\n",
      "6/6 [==============================] - 0s 0us/step - loss: 0.0876 - acc: 0.8333\n",
      "Epoch 76/100\n",
      "6/6 [==============================] - 0s 666us/step - loss: 0.0871 - acc: 0.8333\n",
      "Epoch 77/100\n",
      "6/6 [==============================] - 0s 0us/step - loss: 0.0867 - acc: 0.8333\n",
      "Epoch 78/100\n",
      "6/6 [==============================] - 0s 0us/step - loss: 0.0863 - acc: 0.8333\n",
      "Epoch 79/100\n",
      "6/6 [==============================] - 0s 666us/step - loss: 0.0859 - acc: 0.8333\n",
      "Epoch 80/100\n",
      "6/6 [==============================] - 0s 666us/step - loss: 0.0855 - acc: 0.8333\n",
      "Epoch 81/100\n",
      "6/6 [==============================] - 0s 0us/step - loss: 0.0851 - acc: 0.8333\n",
      "Epoch 82/100\n",
      "6/6 [==============================] - 0s 666us/step - loss: 0.0847 - acc: 0.8333\n",
      "Epoch 83/100\n",
      "6/6 [==============================] - 0s 667us/step - loss: 0.0843 - acc: 0.8333\n",
      "Epoch 84/100\n",
      "6/6 [==============================] - 0s 0us/step - loss: 0.0839 - acc: 0.8333\n",
      "Epoch 85/100\n",
      "6/6 [==============================] - 0s 666us/step - loss: 0.0835 - acc: 0.8333\n"
     ]
    },
    {
     "name": "stdout",
     "output_type": "stream",
     "text": [
      "Epoch 86/100\n",
      "6/6 [==============================] - 0s 0us/step - loss: 0.0831 - acc: 0.8333\n",
      "Epoch 87/100\n",
      "6/6 [==============================] - 0s 0us/step - loss: 0.0827 - acc: 0.8333\n",
      "Epoch 88/100\n",
      "6/6 [==============================] - 0s 666us/step - loss: 0.0823 - acc: 0.8333\n",
      "Epoch 89/100\n",
      "6/6 [==============================] - 0s 0us/step - loss: 0.0819 - acc: 0.8333\n",
      "Epoch 90/100\n",
      "6/6 [==============================] - 0s 0us/step - loss: 0.0815 - acc: 0.8333\n",
      "Epoch 91/100\n",
      "6/6 [==============================] - 0s 667us/step - loss: 0.0811 - acc: 0.8333\n",
      "Epoch 92/100\n",
      "6/6 [==============================] - 0s 0us/step - loss: 0.0807 - acc: 0.8333\n",
      "Epoch 93/100\n",
      "6/6 [==============================] - 0s 0us/step - loss: 0.0803 - acc: 0.8333\n",
      "Epoch 94/100\n",
      "6/6 [==============================] - 0s 0us/step - loss: 0.0799 - acc: 0.8333\n",
      "Epoch 95/100\n",
      "6/6 [==============================] - 0s 667us/step - loss: 0.0795 - acc: 0.8333\n",
      "Epoch 96/100\n",
      "6/6 [==============================] - 0s 0us/step - loss: 0.0791 - acc: 0.8333\n",
      "Epoch 97/100\n",
      "6/6 [==============================] - 0s 0us/step - loss: 0.0787 - acc: 0.8333\n",
      "Epoch 98/100\n",
      "6/6 [==============================] - 0s 666us/step - loss: 0.0783 - acc: 0.8333\n",
      "Epoch 99/100\n",
      "6/6 [==============================] - 0s 0us/step - loss: 0.0780 - acc: 0.8333\n",
      "Epoch 100/100\n",
      "6/6 [==============================] - 0s 0us/step - loss: 0.0776 - acc: 0.8333\n"
     ]
    },
    {
     "data": {
      "text/plain": [
       "<keras.callbacks.History at 0x19c4ab07978>"
      ]
     },
     "execution_count": 6,
     "metadata": {},
     "output_type": "execute_result"
    }
   ],
   "source": [
    "classifier.fit(X, Y, epochs = 100)"
   ]
  },
  {
   "cell_type": "code",
   "execution_count": 7,
   "metadata": {},
   "outputs": [],
   "source": [
    "x_test = np.array([[1, 1, 0]])"
   ]
  },
  {
   "cell_type": "code",
   "execution_count": 8,
   "metadata": {},
   "outputs": [],
   "source": [
    "prediction = classifier.predict(x_test)"
   ]
  },
  {
   "cell_type": "code",
   "execution_count": 9,
   "metadata": {},
   "outputs": [
    {
     "name": "stdout",
     "output_type": "stream",
     "text": [
      "Prediction of the neural network is:  [[0.9477003]]\n"
     ]
    }
   ],
   "source": [
    "print(\"Prediction of the neural network is: \", prediction)"
   ]
  },
  {
   "cell_type": "code",
   "execution_count": null,
   "metadata": {},
   "outputs": [],
   "source": []
  }
 ],
 "metadata": {
  "kernelspec": {
   "display_name": "Python 3",
   "language": "python",
   "name": "python3"
  },
  "language_info": {
   "codemirror_mode": {
    "name": "ipython",
    "version": 3
   },
   "file_extension": ".py",
   "mimetype": "text/x-python",
   "name": "python",
   "nbconvert_exporter": "python",
   "pygments_lexer": "ipython3",
   "version": "3.7.1"
  }
 },
 "nbformat": 4,
 "nbformat_minor": 2
}
